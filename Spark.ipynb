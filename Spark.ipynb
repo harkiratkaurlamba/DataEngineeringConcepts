{
 "cells": [
  {
   "cell_type": "markdown",
   "metadata": {
    "application/vnd.databricks.v1+cell": {
     "cellMetadata": {},
     "inputWidgets": {},
     "nuid": "27e6aab8-44ef-4aa1-954d-4a172ec78fc8",
     "showTitle": false,
     "tableResultSettingsMap": {},
     "title": ""
    }
   },
   "source": [
    "Apache Spark is an open-source, distributed computing system - designed to quickly process large volumes of data that can hardly accomplished by operating on a single machine. \n",
    "Spark distributes data and computations across multiple machines, allowing for parallel processing.\n",
    "\n",
    "\n",
    "A typical Spark application consists of several key components:\n",
    "Driver: This JVM process manages the Spark application, handling user input and distributing work to the executors.\n",
    "\n",
    "Cluster Manager: This component oversees the cluster of machines running the Spark application. Spark can work with various cluster managers, including YARN, Apache Mesos, or its standalone manager.\n",
    "\n",
    "Executors: These processes execute tasks the driver assigns and report their status and results. Each Spark application has its own set of executors. A single worker node can host multiple executors.\n",
    "\n",
    "The cluster manager will have its own “driver” (sometimes called master) and “worker” abstractions. The main difference is that these are tied to physical machines rather than Spark processes.\n",
    "\n",
    "Job, Stage, and Task\n",
    "Job: In Spark, a job represents a series of transformations applied to data. It encompasses the entire workflow from start to finish.\n",
    "\n",
    "Stage: A stage is a job segment executed without data shuffling. Spark splits the job into different stages when a transformation requires shuffling data across partitions.\n",
    "\n",
    "Task: A task is the smallest unit of execution within Spark. Each stage is divided into multiple tasks, running the same code on a separate data partition executed by individual executors.\n",
    "\n",
    "A single Spark application can have more than one Spark job. but how?\n",
    "\n",
    "RDD: It represents an immutable, partitioned collection of records that can be operated on in parallel. Data inside RDD is stored in memory for as long and as much as possible.\n",
    "Internally, each RDD in Spark has five key properties:\n",
    "\n",
    "List of Partitions: The RDD is divided into partitions, which are the units of parallelism in Spark.\n",
    "\n",
    "Computation Function: A function determines how to compute the data for each partition.\n",
    "\n",
    "Dependencies: The RDD keeps track of its dependencies on other RDDs, which describes how it was created.\n",
    "\n",
    "Partitioner (Optional): For key-value RDDs, a partitioner specifies how the data is partitioned, such as using a hash partitioner. ?\n",
    "\n",
    "Preferred Locations (Optional): This property lists the preferred locations for computing each partition, such as the data block locations in the HDFS. ?\n",
    "\n",
    "\n",
    "Lazy Evaluation\n",
    "When you define the RDD, its inside data is not available or transformed immediately until an action triggers the execution. This approach allows Spark to determine the most efficient way to execute the transformations.\n",
    "\n",
    "Transformations, such as map or filter, are operations that define how the data should be transformed, but they don't execute until an action forces the computation. Spark doesn't modify the original RDD when a transformation is applied to an RDD. Instead, it creates a new RDD that represents the result of applying the transformation because RDD is immutable.\n",
    "\n",
    "Actions are the commands that Spark runs to produce output or store data, thereby driving the actual execution of the transformations.\n",
    "\n",
    "Partitions\n",
    "When an RDD is created, Spark divides the data into multiple chunks, known as partitions. Each partition is a logical data subset and can be processed independently with different executors. This enables Spark to perform operations on large datasets in parallel.\n",
    "\n",
    "Fault Tolerance\n",
    "Spark RDDs achieve fault tolerance through lineage. Spark forms the dependency lineage graph by keeping track of each RDD’s dependencies on other RDDs, which is the series of transformations that created it.\n",
    "\n",
    "Suppose any partition of an RDD is lost due to a node failure or other issues. In that case, Spark can reconstruct the lost data by reapplying the transformations to the original dataset described by the lineage. This approach eliminates the need to replicate data across nodes. Instead, Spark only needs to recompute the lost partitions, making the system efficient and resilient to failures\n",
    "\n",
    "\n",
    "\n",
    "\n",
    "Why RDD immutable\n",
    "You might wonder why Spark RDDs are immutable. Here’s the gist:\n",
    "\n",
    "Concurrent Processing: Immutability keeps data consistent across multiple nodes and threads, avoiding complex synchronization and race conditions.\n",
    "\n",
    "Lineage and Fault Tolerance: Each transformation creates a new RDD, preserving the lineage and allowing Spark to recompute lost data reliably. Mutable RDDs would make this much harder.\n",
    "\n",
    "Functional Programming: RDDs follow functional programming principles that emphasize immutability, making it easier to handle failures and maintain data integrity.\n",
    "\n",
    "\n"
   ]
  }
 ],
 "metadata": {
  "application/vnd.databricks.v1+notebook": {
   "computePreferences": null,
   "dashboards": [],
   "environmentMetadata": {
    "base_environment": "",
    "client": "1"
   },
   "language": "python",
   "notebookMetadata": {
    "pythonIndentUnit": 4
   },
   "notebookName": "Spark",
   "widgets": {}
  }
 },
 "nbformat": 4,
 "nbformat_minor": 0
}
